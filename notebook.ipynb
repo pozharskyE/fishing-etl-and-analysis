{
 "cells": [
  {
   "cell_type": "code",
   "execution_count": 1,
   "metadata": {},
   "outputs": [],
   "source": [
    "import pandas as pd\n",
    "import json\n",
    "import numpy as np"
   ]
  },
  {
   "cell_type": "code",
   "execution_count": 2,
   "metadata": {},
   "outputs": [],
   "source": [
    "with open('./members_raw_response3.json', 'r') as f:\n",
    "    members = json.load(f)"
   ]
  },
  {
   "cell_type": "code",
   "execution_count": 131,
   "metadata": {},
   "outputs": [],
   "source": [
    "members_df = pd.DataFrame(members)\n",
    "\n",
    "temp = members_df[members_df['is_closed'] == False]\n",
    "\n",
    "temp = temp[temp['deactivated'] != 'banned']\n",
    "temp = temp[temp['deactivated'] != 'deleted']\n",
    "temp = temp.drop('deactivated', axis=1)\n",
    "\n",
    "temp['full_name'] = temp['first_name'] + ' ' + temp['last_name']\n",
    "temp = temp.drop(['first_name', 'last_name'], axis=1)\n",
    "\n",
    "temp.rename(columns={'id': 'user_id_vk', 'city': 'town'}, inplace=True)\n",
    "\n",
    "temp = temp[['user_id_vk', 'full_name', 'last_seen', 'town', 'mobile_phone', 'home_phone']].reset_index(drop=True)\n",
    "\n",
    "temp['friends_count'] = pd.Series(dtype='int')\n",
    "\n",
    "members_df = temp"
   ]
  },
  {
   "cell_type": "code",
   "execution_count": 132,
   "metadata": {},
   "outputs": [],
   "source": [
    "members_df.to_csv('members_df2.csv', index=False)"
   ]
  }
 ],
 "metadata": {
  "kernelspec": {
   "display_name": ".ml-pytorch1",
   "language": "python",
   "name": "python3"
  },
  "language_info": {
   "codemirror_mode": {
    "name": "ipython",
    "version": 3
   },
   "file_extension": ".py",
   "mimetype": "text/x-python",
   "name": "python",
   "nbconvert_exporter": "python",
   "pygments_lexer": "ipython3",
   "version": "3.11.6"
  }
 },
 "nbformat": 4,
 "nbformat_minor": 2
}
