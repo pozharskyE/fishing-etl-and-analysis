{
 "cells": [
  {
   "cell_type": "code",
   "execution_count": 3,
   "metadata": {},
   "outputs": [],
   "source": [
    "import json"
   ]
  },
  {
   "cell_type": "code",
   "execution_count": 5,
   "metadata": {},
   "outputs": [
    {
     "data": {
      "text/plain": [
       "855000"
      ]
     },
     "execution_count": 5,
     "metadata": {},
     "output_type": "execute_result"
    }
   ],
   "source": [
    "with open('./members_raw_response3.json', 'r') as f:\n",
    "    rr = json.load(f)\n",
    "\n",
    "len(rr)"
   ]
  },
  {
   "cell_type": "code",
   "execution_count": 6,
   "metadata": {},
   "outputs": [],
   "source": [
    "import pandas as pd\n",
    "\n",
    "target_df = pd.read_csv('./members_df.csv')\n",
    "with open('./members_raw_response4.json', 'r') as f:\n",
    "    raw_addition_df = json.load(f)\n",
    "add_df = pd.DataFrame(raw_addition_df)"
   ]
  },
  {
   "cell_type": "code",
   "execution_count": 17,
   "metadata": {},
   "outputs": [
    {
     "data": {
      "text/html": [
       "<div>\n",
       "<style scoped>\n",
       "    .dataframe tbody tr th:only-of-type {\n",
       "        vertical-align: middle;\n",
       "    }\n",
       "\n",
       "    .dataframe tbody tr th {\n",
       "        vertical-align: top;\n",
       "    }\n",
       "\n",
       "    .dataframe thead th {\n",
       "        text-align: right;\n",
       "    }\n",
       "</style>\n",
       "<table border=\"1\" class=\"dataframe\">\n",
       "  <thead>\n",
       "    <tr style=\"text-align: right;\">\n",
       "      <th></th>\n",
       "      <th>user_id_vk</th>\n",
       "      <th>deactivated</th>\n",
       "      <th>first_name</th>\n",
       "      <th>last_name</th>\n",
       "      <th>can_access_closed</th>\n",
       "      <th>is_closed</th>\n",
       "      <th>city</th>\n",
       "      <th>last_seen</th>\n",
       "      <th>bdate</th>\n",
       "      <th>mobile_phone</th>\n",
       "      <th>home_phone</th>\n",
       "    </tr>\n",
       "  </thead>\n",
       "  <tbody>\n",
       "    <tr>\n",
       "      <th>0</th>\n",
       "      <td>48</td>\n",
       "      <td>banned</td>\n",
       "      <td>Misha</td>\n",
       "      <td>Melnikov</td>\n",
       "      <td>True</td>\n",
       "      <td>False</td>\n",
       "      <td>NaN</td>\n",
       "      <td>NaN</td>\n",
       "      <td>NaN</td>\n",
       "      <td>NaN</td>\n",
       "      <td>NaN</td>\n",
       "    </tr>\n",
       "    <tr>\n",
       "      <th>1</th>\n",
       "      <td>1018</td>\n",
       "      <td>NaN</td>\n",
       "      <td>Yarik</td>\n",
       "      <td>Burim</td>\n",
       "      <td>False</td>\n",
       "      <td>True</td>\n",
       "      <td>{'id': 2, 'title': 'Saint Petersburg'}</td>\n",
       "      <td>{'platform': 1, 'time': 1613708136}</td>\n",
       "      <td>NaN</td>\n",
       "      <td>NaN</td>\n",
       "      <td>NaN</td>\n",
       "    </tr>\n",
       "    <tr>\n",
       "      <th>2</th>\n",
       "      <td>1185</td>\n",
       "      <td>banned</td>\n",
       "      <td>Alexey</td>\n",
       "      <td>Mogilov</td>\n",
       "      <td>True</td>\n",
       "      <td>False</td>\n",
       "      <td>NaN</td>\n",
       "      <td>NaN</td>\n",
       "      <td>NaN</td>\n",
       "      <td>NaN</td>\n",
       "      <td>NaN</td>\n",
       "    </tr>\n",
       "    <tr>\n",
       "      <th>3</th>\n",
       "      <td>1721</td>\n",
       "      <td>banned</td>\n",
       "      <td>Maxim</td>\n",
       "      <td>Lotsoka</td>\n",
       "      <td>True</td>\n",
       "      <td>False</td>\n",
       "      <td>NaN</td>\n",
       "      <td>NaN</td>\n",
       "      <td>NaN</td>\n",
       "      <td>NaN</td>\n",
       "      <td>NaN</td>\n",
       "    </tr>\n",
       "    <tr>\n",
       "      <th>4</th>\n",
       "      <td>2136</td>\n",
       "      <td>NaN</td>\n",
       "      <td>Yaroslav</td>\n",
       "      <td>Tekhnik</td>\n",
       "      <td>True</td>\n",
       "      <td>False</td>\n",
       "      <td>{'id': 122, 'title': 'Ryazan'}</td>\n",
       "      <td>{'platform': 2, 'time': 1664478806}</td>\n",
       "      <td>23.10</td>\n",
       "      <td>NaN</td>\n",
       "      <td>NaN</td>\n",
       "    </tr>\n",
       "    <tr>\n",
       "      <th>...</th>\n",
       "      <td>...</td>\n",
       "      <td>...</td>\n",
       "      <td>...</td>\n",
       "      <td>...</td>\n",
       "      <td>...</td>\n",
       "      <td>...</td>\n",
       "      <td>...</td>\n",
       "      <td>...</td>\n",
       "      <td>...</td>\n",
       "      <td>...</td>\n",
       "      <td>...</td>\n",
       "    </tr>\n",
       "    <tr>\n",
       "      <th>854995</th>\n",
       "      <td>796250689</td>\n",
       "      <td>NaN</td>\n",
       "      <td>Evgeny</td>\n",
       "      <td>Nikolaevich</td>\n",
       "      <td>True</td>\n",
       "      <td>False</td>\n",
       "      <td>NaN</td>\n",
       "      <td>{'platform': 1, 'time': 1715261614}</td>\n",
       "      <td>30.12.1993</td>\n",
       "      <td></td>\n",
       "      <td></td>\n",
       "    </tr>\n",
       "    <tr>\n",
       "      <th>854996</th>\n",
       "      <td>796254657</td>\n",
       "      <td>NaN</td>\n",
       "      <td>Ramon</td>\n",
       "      <td>Andropov</td>\n",
       "      <td>True</td>\n",
       "      <td>False</td>\n",
       "      <td>NaN</td>\n",
       "      <td>{'platform': 4, 'time': 1716195628}</td>\n",
       "      <td>12.11.1992</td>\n",
       "      <td></td>\n",
       "      <td></td>\n",
       "    </tr>\n",
       "    <tr>\n",
       "      <th>854997</th>\n",
       "      <td>796261983</td>\n",
       "      <td>NaN</td>\n",
       "      <td>Coolwalk</td>\n",
       "      <td>Qin</td>\n",
       "      <td>True</td>\n",
       "      <td>False</td>\n",
       "      <td>{'id': 1, 'title': 'Moscow'}</td>\n",
       "      <td>{'platform': 2, 'time': 1706206448}</td>\n",
       "      <td>1.3.1973</td>\n",
       "      <td>89258831000</td>\n",
       "      <td></td>\n",
       "    </tr>\n",
       "    <tr>\n",
       "      <th>854998</th>\n",
       "      <td>796269642</td>\n",
       "      <td>banned</td>\n",
       "      <td>Arkady</td>\n",
       "      <td>Komlev</td>\n",
       "      <td>True</td>\n",
       "      <td>False</td>\n",
       "      <td>NaN</td>\n",
       "      <td>NaN</td>\n",
       "      <td>NaN</td>\n",
       "      <td>NaN</td>\n",
       "      <td>NaN</td>\n",
       "    </tr>\n",
       "    <tr>\n",
       "      <th>854999</th>\n",
       "      <td>796275331</td>\n",
       "      <td>NaN</td>\n",
       "      <td>Nikolay</td>\n",
       "      <td>Fyodorov</td>\n",
       "      <td>False</td>\n",
       "      <td>True</td>\n",
       "      <td>NaN</td>\n",
       "      <td>NaN</td>\n",
       "      <td>NaN</td>\n",
       "      <td>NaN</td>\n",
       "      <td>NaN</td>\n",
       "    </tr>\n",
       "  </tbody>\n",
       "</table>\n",
       "<p>855000 rows × 11 columns</p>\n",
       "</div>"
      ],
      "text/plain": [
       "        user_id_vk deactivated first_name    last_name  can_access_closed  \\\n",
       "0               48      banned      Misha     Melnikov               True   \n",
       "1             1018         NaN      Yarik        Burim              False   \n",
       "2             1185      banned     Alexey      Mogilov               True   \n",
       "3             1721      banned      Maxim      Lotsoka               True   \n",
       "4             2136         NaN   Yaroslav      Tekhnik               True   \n",
       "...            ...         ...        ...          ...                ...   \n",
       "854995   796250689         NaN     Evgeny  Nikolaevich               True   \n",
       "854996   796254657         NaN      Ramon     Andropov               True   \n",
       "854997   796261983         NaN   Coolwalk          Qin               True   \n",
       "854998   796269642      banned     Arkady       Komlev               True   \n",
       "854999   796275331         NaN    Nikolay     Fyodorov              False   \n",
       "\n",
       "        is_closed                                    city  \\\n",
       "0           False                                     NaN   \n",
       "1            True  {'id': 2, 'title': 'Saint Petersburg'}   \n",
       "2           False                                     NaN   \n",
       "3           False                                     NaN   \n",
       "4           False          {'id': 122, 'title': 'Ryazan'}   \n",
       "...           ...                                     ...   \n",
       "854995      False                                     NaN   \n",
       "854996      False                                     NaN   \n",
       "854997      False            {'id': 1, 'title': 'Moscow'}   \n",
       "854998      False                                     NaN   \n",
       "854999       True                                     NaN   \n",
       "\n",
       "                                  last_seen       bdate mobile_phone  \\\n",
       "0                                       NaN         NaN          NaN   \n",
       "1       {'platform': 1, 'time': 1613708136}         NaN          NaN   \n",
       "2                                       NaN         NaN          NaN   \n",
       "3                                       NaN         NaN          NaN   \n",
       "4       {'platform': 2, 'time': 1664478806}       23.10          NaN   \n",
       "...                                     ...         ...          ...   \n",
       "854995  {'platform': 1, 'time': 1715261614}  30.12.1993                \n",
       "854996  {'platform': 4, 'time': 1716195628}  12.11.1992                \n",
       "854997  {'platform': 2, 'time': 1706206448}    1.3.1973  89258831000   \n",
       "854998                                  NaN         NaN          NaN   \n",
       "854999                                  NaN         NaN          NaN   \n",
       "\n",
       "       home_phone  \n",
       "0             NaN  \n",
       "1             NaN  \n",
       "2             NaN  \n",
       "3             NaN  \n",
       "4             NaN  \n",
       "...           ...  \n",
       "854995             \n",
       "854996             \n",
       "854997             \n",
       "854998        NaN  \n",
       "854999        NaN  \n",
       "\n",
       "[855000 rows x 11 columns]"
      ]
     },
     "execution_count": 17,
     "metadata": {},
     "output_type": "execute_result"
    }
   ],
   "source": [
    "add_df"
   ]
  },
  {
   "cell_type": "code",
   "execution_count": 18,
   "metadata": {},
   "outputs": [],
   "source": [
    "# merged_df = pd.merge(target_df, add_df[['user_id_vk', 'bdate']], on='user_id_vk', how='left')\n",
    "# merged_df.to_csv('./members_df.csv', index=False)"
   ]
  },
  {
   "cell_type": "code",
   "execution_count": 2,
   "metadata": {},
   "outputs": [
    {
     "data": {
      "text/plain": [
       "612613"
      ]
     },
     "execution_count": 2,
     "metadata": {},
     "output_type": "execute_result"
    }
   ],
   "source": [
    "len(target_df)"
   ]
  },
  {
   "cell_type": "code",
   "execution_count": null,
   "metadata": {},
   "outputs": [],
   "source": []
  },
  {
   "cell_type": "code",
   "execution_count": 75,
   "metadata": {},
   "outputs": [
    {
     "data": {
      "text/plain": [
       "0      70.0\n",
       "1    1227.0\n",
       "2     176.0\n",
       "3    1295.0\n",
       "4     123.0\n",
       "Name: friends_count, dtype: float64"
      ]
     },
     "execution_count": 75,
     "metadata": {},
     "output_type": "execute_result"
    }
   ],
   "source": [
    "target_df['friends_count'].iloc[0:5]"
   ]
  },
  {
   "cell_type": "code",
   "execution_count": 16,
   "metadata": {},
   "outputs": [
    {
     "name": "stdout",
     "output_type": "stream",
     "text": [
      "0\n",
      "10\n",
      "20\n",
      "30\n",
      "40\n",
      "50\n",
      "60\n",
      "70\n",
      "80\n",
      "90\n",
      "100\n"
     ]
    }
   ],
   "source": [
    "for i in range(0, 100+1, 10):\n",
    "    print(i)"
   ]
  },
  {
   "cell_type": "code",
   "execution_count": 9,
   "metadata": {},
   "outputs": [
    {
     "name": "stdout",
     "output_type": "stream",
     "text": [
      "0\n",
      "5\n",
      "10\n"
     ]
    }
   ],
   "source": [
    "for i in range(0, 12, 5):\n",
    "    print(i)"
   ]
  },
  {
   "cell_type": "code",
   "execution_count": 26,
   "metadata": {},
   "outputs": [],
   "source": [
    "import time"
   ]
  },
  {
   "cell_type": "code",
   "execution_count": 57,
   "metadata": {},
   "outputs": [],
   "source": [
    "begin = time.time()\n",
    "time.sleep(0.5)\n",
    "end = time.time()\n",
    "time.sleep(1 - (end - begin))"
   ]
  },
  {
   "cell_type": "code",
   "execution_count": 59,
   "metadata": {},
   "outputs": [
    {
     "data": {
      "text/plain": [
       "0.5009992122650146"
      ]
     },
     "execution_count": 59,
     "metadata": {},
     "output_type": "execute_result"
    }
   ],
   "source": [
    "(end - begin)"
   ]
  },
  {
   "cell_type": "code",
   "execution_count": 56,
   "metadata": {},
   "outputs": [
    {
     "data": {
      "text/plain": [
       "True"
      ]
     },
     "execution_count": 56,
     "metadata": {},
     "output_type": "execute_result"
    }
   ],
   "source": [
    "bool(-1)"
   ]
  }
 ],
 "metadata": {
  "kernelspec": {
   "display_name": ".ml-pytorch1",
   "language": "python",
   "name": "python3"
  },
  "language_info": {
   "codemirror_mode": {
    "name": "ipython",
    "version": 3
   },
   "file_extension": ".py",
   "mimetype": "text/x-python",
   "name": "python",
   "nbconvert_exporter": "python",
   "pygments_lexer": "ipython3",
   "version": "3.11.6"
  }
 },
 "nbformat": 4,
 "nbformat_minor": 2
}
