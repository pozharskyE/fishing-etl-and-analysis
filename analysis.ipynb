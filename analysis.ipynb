{
 "cells": [
  {
   "cell_type": "code",
   "execution_count": 1,
   "metadata": {},
   "outputs": [],
   "source": [
    "import pandas as pd\n",
    "import matplotlib.pyplot as plt\n",
    "import numpy as np"
   ]
  },
  {
   "cell_type": "code",
   "execution_count": 2,
   "metadata": {},
   "outputs": [],
   "source": [
    "with open('./where_stopped_get_friends_count.txt', 'r') as f:\n",
    "    WHERE_STOPPED = int(f.read()) \n",
    "\n",
    "df = pd.read_csv('./members_df.csv')"
   ]
  },
  {
   "cell_type": "code",
   "execution_count": 27,
   "metadata": {},
   "outputs": [
    {
     "name": "stdout",
     "output_type": "stream",
     "text": [
      "friends_count histogram\n"
     ]
    },
    {
     "data": {
      "text/plain": [
       "(array([28263.,   924.,   285.,   143.,   110.,    69.,    71.,    42.,\n",
       "           30.,    41.]),\n",
       " array([    0.,  1000.,  2000.,  3000.,  4000.,  5000.,  6000.,  7000.,\n",
       "         8000.,  9000., 10000.]),\n",
       " <BarContainer object of 10 artists>)"
      ]
     },
     "execution_count": 27,
     "metadata": {},
     "output_type": "execute_result"
    },
    {
     "data": {
      "image/png": "[encoded data removed]",
      "text/plain": [
       "<Figure size 640x480 with 1 Axes>"
      ]
     },
     "metadata": {},
     "output_type": "display_data"
    }
   ],
   "source": [
    "print('friends_count histogram')\n",
    "plt.hist(df.loc[0:WHERE_STOPPED, 'friends_count'])"
   ]
  },
  {
   "cell_type": "code",
   "execution_count": 29,
   "metadata": {},
   "outputs": [
    {
     "name": "stdout",
     "output_type": "stream",
     "text": [
      "Top most popular full_names\n"
     ]
    },
    {
     "data": {
      "text/plain": [
       "full_name\n",
       "Ivan Ivanov             706\n",
       "Alexander Ivanov        445\n",
       "Sergey Ivanov           367\n",
       "Alexander Alexandrov    303\n",
       "Alexey Ivanov           290\n",
       "Sergey Sergeev          277\n",
       "Dmitry Ivanov           249\n",
       "Andrey Ivanov           245\n",
       "Andrey Andreev          227\n",
       "Alexey Alexeev          222\n",
       "Name: count, dtype: int64"
      ]
     },
     "execution_count": 29,
     "metadata": {},
     "output_type": "execute_result"
    }
   ],
   "source": [
    "print('Top most popular full_names')\n",
    "df['full_name'].value_counts()[:10]"
   ]
  },
  {
   "cell_type": "code",
   "execution_count": 33,
   "metadata": {},
   "outputs": [
    {
     "name": "stdout",
     "output_type": "stream",
     "text": [
      "Top 10 most popular cities\n"
     ]
    },
    {
     "data": {
      "text/plain": [
       "city\n",
       "Moscow              29537\n",
       "Saint Petersburg    16146\n",
       "Kyiv                11723\n",
       "Kharkiv              5905\n",
       "Kazan                5056\n",
       "Odessa               4977\n",
       "Minsk                4798\n",
       "Almaty               4462\n",
       "Perm                 4430\n",
       "Krasnodar            4214\n",
       "Name: count, dtype: int64"
      ]
     },
     "execution_count": 33,
     "metadata": {},
     "output_type": "execute_result"
    }
   ],
   "source": [
    "nonan_df = df.fillna(np.nan).replace([np.nan], [None])\n",
    "\n",
    "nonan_df['city'] = [eval(d)['title'] if d else None for d in nonan_df['town']]\n",
    "\n",
    "print('Top 10 most popular cities')\n",
    "nonan_df['city'].value_counts()[:10]"
   ]
  },
  {
   "cell_type": "code",
   "execution_count": 34,
   "metadata": {},
   "outputs": [
    {
     "name": "stdout",
     "output_type": "stream",
     "text": [
      "Top 10 cities by average number of friends\n"
     ]
    },
    {
     "data": {
      "text/plain": [
       "city\n",
       "Zapadnoe Konchezero     9716.0\n",
       "Sudromskaya             9283.0\n",
       "Ko Samui                8898.0\n",
       "Svalyava                8660.0\n",
       "Vyartsilya              8628.0\n",
       "Ashkhabad               7022.0\n",
       "Nadvoitsy (derevnya)    5187.0\n",
       "Gurzuf                  4991.0\n",
       "Denver                  4946.0\n",
       "Bogotá                  4935.0\n",
       "Name: friends_count, dtype: object"
      ]
     },
     "execution_count": 34,
     "metadata": {},
     "output_type": "execute_result"
    }
   ],
   "source": [
    "print('Top 10 cities by average number of friends')\n",
    "nonan_df.groupby(['city'])['friends_count'].mean().sort_values(ascending=False)[:10]"
   ]
  },
  {
   "cell_type": "code",
   "execution_count": 16,
   "metadata": {},
   "outputs": [
    {
     "data": {
      "text/html": [
       "<div>\n",
       "<style scoped>\n",
       "    .dataframe tbody tr th:only-of-type {\n",
       "        vertical-align: middle;\n",
       "    }\n",
       "\n",
       "    .dataframe tbody tr th {\n",
       "        vertical-align: top;\n",
       "    }\n",
       "\n",
       "    .dataframe thead th {\n",
       "        text-align: right;\n",
       "    }\n",
       "</style>\n",
       "<table border=\"1\" class=\"dataframe\">\n",
       "  <thead>\n",
       "    <tr style=\"text-align: right;\">\n",
       "      <th></th>\n",
       "      <th>user_id_vk</th>\n",
       "      <th>full_name</th>\n",
       "      <th>last_seen</th>\n",
       "      <th>town</th>\n",
       "      <th>mobile_phone</th>\n",
       "      <th>home_phone</th>\n",
       "      <th>friends_count</th>\n",
       "      <th>bdate</th>\n",
       "    </tr>\n",
       "  </thead>\n",
       "  <tbody>\n",
       "    <tr>\n",
       "      <th>0</th>\n",
       "      <td>2136</td>\n",
       "      <td>Yaroslav Tekhnik</td>\n",
       "      <td>{'platform': 2, 'time': 1664478806}</td>\n",
       "      <td>{'id': 122, 'title': 'Ryazan'}</td>\n",
       "      <td>NaN</td>\n",
       "      <td>NaN</td>\n",
       "      <td>70.0</td>\n",
       "      <td>23.10</td>\n",
       "    </tr>\n",
       "    <tr>\n",
       "      <th>1</th>\n",
       "      <td>2395</td>\n",
       "      <td>Alexander Moskalenko</td>\n",
       "      <td>{'platform': 2, 'time': 1715897638}</td>\n",
       "      <td>{'id': 2, 'title': 'Saint Petersburg'}</td>\n",
       "      <td>https://bankrotstvo-fizi</td>\n",
       "      <td>NaN</td>\n",
       "      <td>1227.0</td>\n",
       "      <td>11.8</td>\n",
       "    </tr>\n",
       "    <tr>\n",
       "      <th>2</th>\n",
       "      <td>3191</td>\n",
       "      <td>Darya Petrova</td>\n",
       "      <td>{'platform': 2, 'time': 1709659850}</td>\n",
       "      <td>{'id': 2, 'title': 'Saint Petersburg'}</td>\n",
       "      <td>точно есть)</td>\n",
       "      <td>отсутсвует за ненадобнос</td>\n",
       "      <td>176.0</td>\n",
       "      <td>30.10</td>\n",
       "    </tr>\n",
       "    <tr>\n",
       "      <th>3</th>\n",
       "      <td>3450</td>\n",
       "      <td>Evgeny Litvinov</td>\n",
       "      <td>{'platform': 1, 'time': 1714918616}</td>\n",
       "      <td>{'id': 1, 'title': 'Moscow'}</td>\n",
       "      <td>NaN</td>\n",
       "      <td>2-12-85-06</td>\n",
       "      <td>1295.0</td>\n",
       "      <td>11.12</td>\n",
       "    </tr>\n",
       "    <tr>\n",
       "      <th>4</th>\n",
       "      <td>4731</td>\n",
       "      <td>Pavel Vokuev</td>\n",
       "      <td>{'platform': 7, 'time': 1715888142}</td>\n",
       "      <td>{'id': 2, 'title': 'Saint Petersburg'}</td>\n",
       "      <td>NaN</td>\n",
       "      <td>NaN</td>\n",
       "      <td>123.0</td>\n",
       "      <td>15.1.1986</td>\n",
       "    </tr>\n",
       "    <tr>\n",
       "      <th>...</th>\n",
       "      <td>...</td>\n",
       "      <td>...</td>\n",
       "      <td>...</td>\n",
       "      <td>...</td>\n",
       "      <td>...</td>\n",
       "      <td>...</td>\n",
       "      <td>...</td>\n",
       "      <td>...</td>\n",
       "    </tr>\n",
       "    <tr>\n",
       "      <th>612608</th>\n",
       "      <td>796336654</td>\n",
       "      <td>Baget Bagetovich</td>\n",
       "      <td>{'platform': 4, 'time': 1715679131}</td>\n",
       "      <td>{'id': 1, 'title': 'Moscow'}</td>\n",
       "      <td>NaN</td>\n",
       "      <td>NaN</td>\n",
       "      <td>NaN</td>\n",
       "      <td>NaN</td>\n",
       "    </tr>\n",
       "    <tr>\n",
       "      <th>612609</th>\n",
       "      <td>796344853</td>\n",
       "      <td>Denis Zverovschikov</td>\n",
       "      <td>{'platform': 4, 'time': 1715878372}</td>\n",
       "      <td>NaN</td>\n",
       "      <td>NaN</td>\n",
       "      <td>NaN</td>\n",
       "      <td>NaN</td>\n",
       "      <td>NaN</td>\n",
       "    </tr>\n",
       "    <tr>\n",
       "      <th>612610</th>\n",
       "      <td>796347277</td>\n",
       "      <td>Andrey Kazantsev</td>\n",
       "      <td>{'platform': 4, 'time': 1715819686}</td>\n",
       "      <td>{'id': 1226, 'title': 'Kolpashevo'}</td>\n",
       "      <td>NaN</td>\n",
       "      <td>NaN</td>\n",
       "      <td>NaN</td>\n",
       "      <td>NaN</td>\n",
       "    </tr>\n",
       "    <tr>\n",
       "      <th>612611</th>\n",
       "      <td>796378251</td>\n",
       "      <td>Maria Romanchik</td>\n",
       "      <td>{'platform': 2, 'time': 1707426333}</td>\n",
       "      <td>NaN</td>\n",
       "      <td>NaN</td>\n",
       "      <td>NaN</td>\n",
       "      <td>NaN</td>\n",
       "      <td>NaN</td>\n",
       "    </tr>\n",
       "    <tr>\n",
       "      <th>612612</th>\n",
       "      <td>796385314</td>\n",
       "      <td>Anatoly Svitlik</td>\n",
       "      <td>{'platform': 4, 'time': 1715891313}</td>\n",
       "      <td>NaN</td>\n",
       "      <td>NaN</td>\n",
       "      <td>NaN</td>\n",
       "      <td>NaN</td>\n",
       "      <td>NaN</td>\n",
       "    </tr>\n",
       "  </tbody>\n",
       "</table>\n",
       "<p>612613 rows × 8 columns</p>\n",
       "</div>"
      ],
      "text/plain": [
       "        user_id_vk             full_name                            last_seen  \\\n",
       "0             2136      Yaroslav Tekhnik  {'platform': 2, 'time': 1664478806}   \n",
       "1             2395  Alexander Moskalenko  {'platform': 2, 'time': 1715897638}   \n",
       "2             3191         Darya Petrova  {'platform': 2, 'time': 1709659850}   \n",
       "3             3450       Evgeny Litvinov  {'platform': 1, 'time': 1714918616}   \n",
       "4             4731          Pavel Vokuev  {'platform': 7, 'time': 1715888142}   \n",
       "...            ...                   ...                                  ...   \n",
       "612608   796336654      Baget Bagetovich  {'platform': 4, 'time': 1715679131}   \n",
       "612609   796344853   Denis Zverovschikov  {'platform': 4, 'time': 1715878372}   \n",
       "612610   796347277      Andrey Kazantsev  {'platform': 4, 'time': 1715819686}   \n",
       "612611   796378251       Maria Romanchik  {'platform': 2, 'time': 1707426333}   \n",
       "612612   796385314       Anatoly Svitlik  {'platform': 4, 'time': 1715891313}   \n",
       "\n",
       "                                          town              mobile_phone  \\\n",
       "0               {'id': 122, 'title': 'Ryazan'}                       NaN   \n",
       "1       {'id': 2, 'title': 'Saint Petersburg'}  https://bankrotstvo-fizi   \n",
       "2       {'id': 2, 'title': 'Saint Petersburg'}               точно есть)   \n",
       "3                 {'id': 1, 'title': 'Moscow'}                       NaN   \n",
       "4       {'id': 2, 'title': 'Saint Petersburg'}                       NaN   \n",
       "...                                        ...                       ...   \n",
       "612608            {'id': 1, 'title': 'Moscow'}                       NaN   \n",
       "612609                                     NaN                       NaN   \n",
       "612610     {'id': 1226, 'title': 'Kolpashevo'}                       NaN   \n",
       "612611                                     NaN                       NaN   \n",
       "612612                                     NaN                       NaN   \n",
       "\n",
       "                      home_phone  friends_count      bdate  \n",
       "0                            NaN           70.0      23.10  \n",
       "1                            NaN         1227.0       11.8  \n",
       "2       отсутсвует за ненадобнос          176.0      30.10  \n",
       "3                     2-12-85-06         1295.0      11.12  \n",
       "4                            NaN          123.0  15.1.1986  \n",
       "...                          ...            ...        ...  \n",
       "612608                       NaN            NaN        NaN  \n",
       "612609                       NaN            NaN        NaN  \n",
       "612610                       NaN            NaN        NaN  \n",
       "612611                       NaN            NaN        NaN  \n",
       "612612                       NaN            NaN        NaN  \n",
       "\n",
       "[612613 rows x 8 columns]"
      ]
     },
     "execution_count": 16,
     "metadata": {},
     "output_type": "execute_result"
    }
   ],
   "source": [
    "df"
   ]
  },
  {
   "cell_type": "code",
   "execution_count": 18,
   "metadata": {},
   "outputs": [],
   "source": [
    "def bdate_to_age(bdate_arr):\n",
    "    ages = []\n",
    "    for bdate in bdate_arr:\n",
    "        if type(bdate) == str:\n",
    "            bdate = bdate.strip()\n",
    "            if len(bdate) > 6:\n",
    "                year = bdate[-4:]\n",
    "                ages.append(2024 - int(year))\n",
    "            else:\n",
    "                ages.append(None)\n",
    "        else:\n",
    "            ages.append(None)\n",
    "    return ages\n",
    "\n",
    "df['age'] = bdate_to_age(df['bdate'])"
   ]
  },
  {
   "cell_type": "code",
   "execution_count": 38,
   "metadata": {},
   "outputs": [
    {
     "name": "stdout",
     "output_type": "stream",
     "text": [
      "Scatter plot - age to friends_count\n"
     ]
    },
    {
     "data": {
      "text/plain": [
       "<matplotlib.collections.PathCollection at 0x22a46847350>"
      ]
     },
     "execution_count": 38,
     "metadata": {},
     "output_type": "execute_result"
    },
    {
     "data": {
      "image/png": "[encoded data removed]",
      "text/plain": [
       "<Figure size 640x480 with 1 Axes>"
      ]
     },
     "metadata": {},
     "output_type": "display_data"
    }
   ],
   "source": [
    "print('Scatter plot - age to friends_count')\n",
    "plt.scatter(df['age'], df['friends_count'], s=1)\n"
   ]
  }
 ],
 "metadata": {
  "kernelspec": {
   "display_name": ".ml-pytorch1",
   "language": "python",
   "name": "python3"
  },
  "language_info": {
   "codemirror_mode": {
    "name": "ipython",
    "version": 3
   },
   "file_extension": ".py",
   "mimetype": "text/x-python",
   "name": "python",
   "nbconvert_exporter": "python",
   "pygments_lexer": "ipython3",
   "version": "3.11.6"
  }
 },
 "nbformat": 4,
 "nbformat_minor": 2
}
